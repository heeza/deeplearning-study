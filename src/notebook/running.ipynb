{
 "cells": [
  {
   "cell_type": "code",
   "execution_count": 2,
   "id": "8f068615",
   "metadata": {},
   "outputs": [],
   "source": [
    "import numpy as np\n",
    "import tensorflow as tf"
   ]
  },
  {
   "cell_type": "code",
   "execution_count": 4,
   "id": "06e33e9d",
   "metadata": {},
   "outputs": [
    {
     "name": "stdout",
     "output_type": "stream",
     "text": [
      "Hello\n",
      "[2, 3, 4, 5, 6]\n"
     ]
    }
   ],
   "source": [
    "text = 'Hello world'\n",
    "numbers = [0, 1, 2, 3, 4, 5, 6, 7, 8, 9]\n",
    "\n",
    "print(text[:5])\n",
    "print(numbers[2:7])"
   ]
  },
  {
   "cell_type": "code",
   "execution_count": 9,
   "id": "8d2db594",
   "metadata": {},
   "outputs": [
    {
     "name": "stdout",
     "output_type": "stream",
     "text": [
      "Hello\n",
      "[0, 1, 2]\n",
      "world\n",
      "[7, 8, 9]\n",
      "Hello world\n",
      "[0, 1, 2, 3, 4, 5, 6, 7, 8, 9]\n"
     ]
    }
   ],
   "source": [
    "print(text[:5])\n",
    "print(numbers[:3])\n",
    "\n",
    "print(text[6:])\n",
    "print(numbers[7:])\n",
    "\n",
    "print(text[:])\n",
    "print(numbers[:])"
   ]
  },
  {
   "cell_type": "code",
   "execution_count": 14,
   "id": "3f8be332",
   "metadata": {},
   "outputs": [
    {
     "name": "stdout",
     "output_type": "stream",
     "text": [
      "hon\n",
      "Pyth\n",
      "tho\n"
     ]
    }
   ],
   "source": [
    "text = \"Python\"\n",
    "#  P  y  t  h  o  n\n",
    "#  0  1  2  3  4  5\n",
    "# -6 -5 -4 -3 -2 -1 \n",
    "\n",
    "print(text[-3:])\n",
    "print(text[:-2])\n",
    "print(text[-4:-1])"
   ]
  },
  {
   "cell_type": "code",
   "execution_count": 24,
   "id": "b9b2ed18",
   "metadata": {},
   "outputs": [
    {
     "name": "stdout",
     "output_type": "stream",
     "text": [
      "[0, 2, 4, 6, 8]\n",
      "[1, 3, 5, 7, 9]\n",
      "[2, 4, 6]\n",
      "[9, 8, 7, 6, 5, 4, 3, 2, 1, 0]\n",
      "[8, 7, 6, 5, 4, 3]\n"
     ]
    }
   ],
   "source": [
    "numbers = [0, 1, 2, 3, 4, 5, 6, 7, 8, 9]\n",
    "print(numbers[::2])\n",
    "print(numbers[1::2])\n",
    "\n",
    "print(numbers[2:8:2])\n",
    "\n",
    "print(numbers[::-1])\n",
    "print(numbers[8:2:-1])"
   ]
  },
  {
   "cell_type": "code",
   "execution_count": 25,
   "id": "035c9155",
   "metadata": {},
   "outputs": [
    {
     "name": "stdout",
     "output_type": "stream",
     "text": [
      "[0, 1, 2, 3, 4, 5, 6, 7, 8, 9, 10, 11, 12, 13, 14, 15, 16, 17, 18, 19]\n",
      "[0, 1, 2, 3, 4, 5, 6, 7, 8, 9]\n",
      "[10, 11, 12, 13, 14, 15, 16, 17, 18, 19]\n",
      "[1, 3, 5, 7, 9, 11, 13, 15, 17, 19]\n",
      "[19, 18]\n"
     ]
    }
   ],
   "source": [
    "data = list(range(20))\n",
    "print(data)\n",
    "\n",
    "print(data[:len(data) // 2])\n",
    "print(data[len(data) // 2:])\n",
    "\n",
    "print(data[1::2])\n",
    "\n",
    "print(data[:-3:-1])"
   ]
  },
  {
   "cell_type": "code",
   "execution_count": 27,
   "id": "dcef4258",
   "metadata": {},
   "outputs": [],
   "source": [
    "matrix = [\n",
    "    [1, 2, 3, 4],\n",
    "    [5, 6, 7, 8],\n",
    "    [9, 10, 11, 12]\n",
    "]"
   ]
  },
  {
   "cell_type": "code",
   "execution_count": 31,
   "id": "606c07f5",
   "metadata": {},
   "outputs": [
    {
     "name": "stdout",
     "output_type": "stream",
     "text": [
      "[[5, 6, 7, 8], [9, 10, 11, 12]]\n",
      "[[1, 2, 3, 4], [5, 6, 7, 8]]\n"
     ]
    }
   ],
   "source": [
    "print(matrix[1:])\n",
    "print(matrix[:2])"
   ]
  },
  {
   "cell_type": "code",
   "execution_count": 32,
   "id": "f09f9812",
   "metadata": {},
   "outputs": [
    {
     "name": "stdout",
     "output_type": "stream",
     "text": [
      "[[2, 3], [6, 7], [10, 11]]\n"
     ]
    }
   ],
   "source": [
    "print([row[1:3] for row in matrix])"
   ]
  },
  {
   "cell_type": "code",
   "execution_count": 33,
   "id": "16e87f3a",
   "metadata": {},
   "outputs": [
    {
     "name": "stdout",
     "output_type": "stream",
     "text": [
      "[3, 7, 11]\n"
     ]
    }
   ],
   "source": [
    "print([row[2] for row in matrix])"
   ]
  },
  {
   "cell_type": "code",
   "execution_count": null,
   "id": "31f5c589",
   "metadata": {},
   "outputs": [],
   "source": []
  }
 ],
 "metadata": {
  "kernelspec": {
   "display_name": "Python 3",
   "language": "python",
   "name": "python3"
  },
  "language_info": {
   "codemirror_mode": {
    "name": "ipython",
    "version": 3
   },
   "file_extension": ".py",
   "mimetype": "text/x-python",
   "name": "python",
   "nbconvert_exporter": "python",
   "pygments_lexer": "ipython3",
   "version": "3.10.18"
  }
 },
 "nbformat": 4,
 "nbformat_minor": 5
}
